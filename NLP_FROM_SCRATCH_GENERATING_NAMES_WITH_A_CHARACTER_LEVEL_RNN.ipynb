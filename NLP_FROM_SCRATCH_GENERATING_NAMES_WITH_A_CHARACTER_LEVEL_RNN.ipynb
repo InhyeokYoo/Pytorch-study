{
  "nbformat": 4,
  "nbformat_minor": 0,
  "metadata": {
    "colab": {
      "name": "NLP FROM SCRATCH: GENERATING NAMES WITH A CHARACTER-LEVEL RNN.ipynb",
      "provenance": [],
      "authorship_tag": "ABX9TyP7iUdR75FxrOnvbFVoHdo1",
      "include_colab_link": true
    },
    "kernelspec": {
      "name": "python3",
      "display_name": "Python 3"
    },
    "accelerator": "GPU"
  },
  "cells": [
    {
      "cell_type": "markdown",
      "metadata": {
        "id": "view-in-github",
        "colab_type": "text"
      },
      "source": [
        "<a href=\"https://colab.research.google.com/github/InhyeokYoo/Pytorch-study/blob/master/NLP_FROM_SCRATCH_GENERATING_NAMES_WITH_A_CHARACTER_LEVEL_RNN.ipynb\" target=\"_parent\"><img src=\"https://colab.research.google.com/assets/colab-badge.svg\" alt=\"Open In Colab\"/></a>"
      ]
    },
    {
      "cell_type": "markdown",
      "metadata": {
        "id": "-_3xEYdFL2eN",
        "colab_type": "text"
      },
      "source": [
        "# Introduction\n",
        "이번 튜토리얼은 밑바닥부터 NLP 시작하기 (NLP from scratch)의 두번째 시간입니다. 첫번째 튜토리얼에선 RNN을 이용하여 이름을 갖고 언어를 구분하는 예제를 진행했었습니다. 이번시간에는 이름을 생성해보도록 하겠습니다.\n",
        "\n",
        "> 추가 설명 및 부연 설명은 이 글과 같이 citation으로 달겠습니다.   \n",
        "원본은 https://pytorch.org/tutorials/intermediate/char_rnn_generation_tutorial.html 를 참고해주세요.\n",
        "\n",
        "```\n",
        "> python sample.py Russian RUS\n",
        "Rovakov\n",
        "Uantov\n",
        "Shavakov\n",
        "\n",
        "> python sample.py German GER\n",
        "Gerren\n",
        "Ereng\n",
        "Rosher\n",
        "\n",
        "> python sample.py Spanish SPA\n",
        "Salla\n",
        "Parer\n",
        "Allan\n",
        "\n",
        "> python sample.py Chinese CHI\n",
        "Chan\n",
        "Hang\n",
        "Iun\n",
        "```\n",
        "\n",
        "저희는 여전히 몇 개의 linear layer로 구성된 직접 만든 RNN을 사용할 것입니다. 이전 튜토리얼과 가장 큰 차이점은 이름에 있는 모든 글자를 input으로 넣고 category를 예측하는 것이 아닌, category를 input으로 매 시점에서의 글자를 예측하는 것입니다. 언어를 구성하기 위해 글자들을 반복하여 예측하는 것을 (이는 단어나 어떤 상위 개념에도 똑같이 적용됩니다) **language modeling**이라 부릅니다.\n",
        "\n",
        "**Recomended Reading:**\n",
        "\n",
        "I assume you have at least installed PyTorch, know Python, and understand Tensors:\n",
        "\n",
        "- https://pytorch.org/ For installation instructions\n",
        "- Deep Learning with PyTorch: A 60 Minute Blitz to get started with PyTorch in general\n",
        "- Learning PyTorch with Examples for a wide and deep overview\n",
        "- PyTorch for Former Torch Users if you are former Lua Torch user\n",
        "\n",
        "It would also be useful to know about RNNs and how they work:\n",
        "\n",
        "- The Unreasonable Effectiveness of Recurrent Neural Networks shows a bunch of real life examples\n",
        "- Understanding LSTM Networks is about LSTMs specifically but also informative about RNNs in general\n",
        "- I also suggest the previous tutorial, NLP From Scratch: Classifying Names with a Character-Level RNN\n",
        "\n",
        "\n"
      ]
    },
    {
      "cell_type": "markdown",
      "metadata": {
        "id": "-8WzCd2Wrf1x",
        "colab_type": "text"
      },
      "source": [
        "# Data Preparing\n",
        "데이터는 [이곳](https://download.pytorch.org/tutorial/data.zip)에서 다운받을 수 있습니다.\n",
        "> 이전 튜토리얼과 마찬가지로, linux 명령어를 통해 colab의 메모리 혹은 디렉토리에 바로 다운받을 수 있게끔 하겠습니다.\n",
        "\n"
      ]
    },
    {
      "cell_type": "code",
      "metadata": {
        "id": "erTicU2VQlak",
        "colab_type": "code",
        "outputId": "178b9dfb-c507-493e-9a76-dcf18e635505",
        "colab": {
          "base_uri": "https://localhost:8080/",
          "height": 589
        }
      },
      "source": [
        "!wget https://download.pytorch.org/tutorial/data.zip\n",
        "!unzip data.zip"
      ],
      "execution_count": 0,
      "outputs": [
        {
          "output_type": "stream",
          "text": [
            "--2020-01-26 08:34:47--  https://download.pytorch.org/tutorial/data.zip\n",
            "Resolving download.pytorch.org (download.pytorch.org)... 13.249.87.81, 13.249.87.32, 13.249.87.127, ...\n",
            "Connecting to download.pytorch.org (download.pytorch.org)|13.249.87.81|:443... connected.\n",
            "HTTP request sent, awaiting response... 200 OK\n",
            "Length: 2882130 (2.7M) [application/zip]\n",
            "Saving to: ‘data.zip’\n",
            "\n",
            "\rdata.zip              0%[                    ]       0  --.-KB/s               \rdata.zip            100%[===================>]   2.75M  17.5MB/s    in 0.2s    \n",
            "\n",
            "2020-01-26 08:34:47 (17.5 MB/s) - ‘data.zip’ saved [2882130/2882130]\n",
            "\n",
            "Archive:  data.zip\n",
            "   creating: data/\n",
            "  inflating: data/eng-fra.txt        \n",
            "   creating: data/names/\n",
            "  inflating: data/names/Arabic.txt   \n",
            "  inflating: data/names/Chinese.txt  \n",
            "  inflating: data/names/Czech.txt    \n",
            "  inflating: data/names/Dutch.txt    \n",
            "  inflating: data/names/English.txt  \n",
            "  inflating: data/names/French.txt   \n",
            "  inflating: data/names/German.txt   \n",
            "  inflating: data/names/Greek.txt    \n",
            "  inflating: data/names/Irish.txt    \n",
            "  inflating: data/names/Italian.txt  \n",
            "  inflating: data/names/Japanese.txt  \n",
            "  inflating: data/names/Korean.txt   \n",
            "  inflating: data/names/Polish.txt   \n",
            "  inflating: data/names/Portuguese.txt  \n",
            "  inflating: data/names/Russian.txt  \n",
            "  inflating: data/names/Scottish.txt  \n",
            "  inflating: data/names/Spanish.txt  \n",
            "  inflating: data/names/Vietnamese.txt  \n"
          ],
          "name": "stdout"
        }
      ]
    },
    {
      "cell_type": "markdown",
      "metadata": {
        "id": "7c8OSiAN967m",
        "colab_type": "text"
      },
      "source": [
        "이전 튜토리얼에서 작성했던 전처리 함수를 그대로 가져다 쓰겠습니다."
      ]
    },
    {
      "cell_type": "code",
      "metadata": {
        "id": "It6F_dHVr33Z",
        "colab_type": "code",
        "outputId": "8bd59cf5-a957-409e-f60e-4167d4c4128b",
        "colab": {
          "base_uri": "https://localhost:8080/",
          "height": 72
        }
      },
      "source": [
        "from __future__ import unicode_literals, print_function, division\n",
        "from io import open\n",
        "import glob\n",
        "import os\n",
        "import unicodedata\n",
        "import string\n",
        "\n",
        "all_letters = string.ascii_letters + \" .,;'-\"\n",
        "n_letters = len(all_letters) + 1 # EOS (End of Sentence) mark를 달겠습니다.\n",
        "\n",
        "def find_files(path): return glob.glob(path)\n",
        "\n",
        "# Turn a Unicode string to plain ASCII, thanks to https://stackoverflow.com/a/518232/2809427\n",
        "def unicode_to_ascii(s):\n",
        "    return ''.join(\n",
        "        c for c in unicodedata.normalize('NFD', s)\n",
        "        if unicodedata.category(c) != 'Mn'\n",
        "        and c in all_letters\n",
        "    )\n",
        "\n",
        "# 파일을 읽고 lines로 split하겠습니다.\n",
        "def read_lines(filename):\n",
        "    lines = open(filename, encoding='utf-8').read().strip().split('\\n')\n",
        "    return [unicode_to_ascii(line) for line in lines]\n",
        "\n",
        "# category_lines 딕셔너리를 생성하여 category 당 lines의 list를 저장합니다.\n",
        "category_lines = {}\n",
        "all_categories = []\n",
        "for filename in find_files('data/names/*.txt'):\n",
        "    category = os.path.splitext(os.path.basename(filename))[0]\n",
        "    all_categories.append(category)\n",
        "    lines = read_lines(filename)\n",
        "    category_lines[category] = lines\n",
        "\n",
        "n_categories = len(all_categories)\n",
        "\n",
        "# category가 0일 경우, exception을 raise합니다.\n",
        "if n_categories == 0:\n",
        "    raise RuntimeError('Data not found. Make sure that you downloaded data '\n",
        "        'from https://download.pytorch.org/tutorial/data.zip and extract it to '\n",
        "        'the current directory.')\n",
        "\n",
        "print('# categories:', n_categories, all_categories)\n",
        "print(unicode_to_ascii(\"O'Néàl\"))"
      ],
      "execution_count": 0,
      "outputs": [
        {
          "output_type": "stream",
          "text": [
            "# categories: 18 ['Irish', 'Dutch', 'Japanese', 'Greek', 'Korean', 'Polish', 'Vietnamese', 'Arabic', 'Scottish', 'Portuguese', 'Russian', 'German', 'Chinese', 'Spanish', 'French', 'Italian', 'Czech', 'English']\n",
            "O'Neal\n"
          ],
          "name": "stdout"
        }
      ]
    },
    {
      "cell_type": "markdown",
      "metadata": {
        "id": "elgqS7nZEJW-",
        "colab_type": "text"
      },
      "source": [
        "# Creating the Network\n",
        "이번 네트워크는 [이전 튜토리얼의 RNN](https://pytorch.org/tutorials/intermediate/char_rnn_generation_tutorial.html#Creating-the-Network)을 확장한 것으로, cateogry tensor를 위한 추가 argument가 존재합니다. 이 또한 one-hot vetor로, 다른 tensor와 concatenate됩니다.\n",
        "\n",
        "여기서 output은 다음 글자의 확률로 해석됩니다. 샘플링할 때, 가장 그럴듯한 output 글자는 다음 input 글자가됩니다.\n",
        "\n",
        "이번 튜토리얼에서는 두번째 linear layer인 `o2o`(output과 hidden을 합친 후에)가 추가되어 더 많은 기능을 하게됩니다. 또한, overfiting을 방지하는 dropout layer가 있습니다. 여기서는 네트워크의 끝부분에서 이용되어 의도적으로 혼란을 추가하고 sampling variety를 증가시킵니다.\n",
        "![](https://i.imgur.com/jzVrf7f.png)\n",
        "\n",
        "> 이번 예제는 Seq2seq와 비슷합니다.\n",
        "\n",
        "> 밑에는 이전 튜토리얼의 네트워크입니다. 한번 보고 다른점을 한번 확인해보세요.\n",
        "\n",
        "![](https://i.imgur.com/Z2xbySO.png)"
      ]
    },
    {
      "cell_type": "code",
      "metadata": {
        "id": "ReF2wRlZDvTu",
        "colab_type": "code",
        "colab": {}
      },
      "source": [
        "import torch\n",
        "import torch.nn as nn\n",
        "\n",
        "class RNN(nn.Module):\n",
        "    def __init__(self, input_size, hidden_size, output_size):\n",
        "        super(RNN, self).__init__()\n",
        "        self.hidden_size = hidden_size\n",
        "\n",
        "        # dimension이 헷갈린다면 그림을 확인해보세요.\n",
        "        self.i2h = nn.Linear(input_size + self.hidden_size + n_categories, self.hidden_size)\n",
        "        self.i2o = nn.Linear(input_size + self.hidden_size + n_categories, output_size)\n",
        "        self.o2o = nn.Linear(self.hidden_size + output_size, output_size)\n",
        "        # Dropout layer를 추가합니다.\n",
        "        self.dropout = nn.Dropout(0.1)\n",
        "        self.softmax = nn.LogSoftmax(dim=1)\n",
        "\n",
        "    def forward(self, category, input, hidden):\n",
        "        input_combined = torch.cat((category, input, hidden), dim=1)\n",
        "        hidden = self.i2h(input_combined)\n",
        "        output = self.i2o(input_combined)\n",
        "\n",
        "        output_combined = torch.cat((hidden, output), dim=1)\n",
        "        output = self.o2o(output_combined)\n",
        "        output = self.dropout(output)\n",
        "        output = self.softmax(output)\n",
        "        return output, hidden\n",
        "\n",
        "    def init_hidden(self):\n",
        "        return torch.zeros(1, self.hidden_size)"
      ],
      "execution_count": 0,
      "outputs": []
    },
    {
      "cell_type": "markdown",
      "metadata": {
        "id": "n9SvshJNLf55",
        "colab_type": "text"
      },
      "source": [
        "# Training\n",
        "## Preparing for training\n",
        "가장 우선적으로, (category, line)으로 이루어진 쌍을 랜덤으로 얻는 helper functions를 만들어보겠습니다."
      ]
    },
    {
      "cell_type": "code",
      "metadata": {
        "id": "3aFa0TDwLe4g",
        "colab_type": "code",
        "colab": {}
      },
      "source": [
        "import random\n",
        "\n",
        "# list로부터 random하게 요소 뽑아내기\n",
        "def random_choice(l):\n",
        "    return l[random.randint(0, len(l) - 1)]\n",
        "\n",
        "# 카테고리로부터 random line과 random category 뽑아내기\n",
        "def random_training_pair():\n",
        "    # 카테고리 먼저 랜덤으로 뽑고,\n",
        "    category = random_choice(all_categories)\n",
        "    # 뽑은 카테고리에 저장된 이름(line)을 가져옵니다.\n",
        "    line = random_choice(category_lines[category])\n",
        "    return category, line"
      ],
      "execution_count": 0,
      "outputs": []
    },
    {
      "cell_type": "markdown",
      "metadata": {
        "id": "dqLIrzanOgjk",
        "colab_type": "text"
      },
      "source": [
        "매 timestep(training할 단어의 각 글자)에서, 네트워크의 input은 `(category, current_letter, hidden state)`가 될 것이고, output은 `(next letter, next hidden state)`가 될 것입니다. 따라서 각 training set에 대해, category와 input letter, output/target letters가 필요합니다.\n",
        "\n",
        "매 timestep에 대해, 현재 글자로부터 다음 글자를 예측해야되기 때문에 글자 쌍은 lines로부터 얻어진 연속적인 글자가 됩니다 - e.g. `ABCD<EOS>`에 대해, (\"A\", \"B\"), (\"B\", \"C\"), (\"C\", \"D\"), (\"D\", \"EOS\")쌍을 만들면 됩니다.\n",
        "\n",
        "![](https://i.imgur.com/JH58tXY.png)\n",
        "\n",
        "Category 텐서는 one-hot tensor로, `<1 x n_categories>`의 사이즈를 갖고 있습니다. Training 과정에서 이를 모든 timestep에서 네트워크에 집어넣습니다(feed) - 이는 초기 hidden state나 어떤 다른 전략의 일부분으로 포함될 수 있는 것으로, 선택하기 나름입니다(design choice).\n",
        "\n",
        "> Design choice는 설계 스타일을 의미하는 것 같습니다."
      ]
    },
    {
      "cell_type": "code",
      "metadata": {
        "id": "JTPMS5-1Ofoo",
        "colab_type": "code",
        "colab": {}
      },
      "source": [
        "# 카테고리를 one-hot vector로 바꾸기\n",
        "def category_tensor(category):\n",
        "    li = all_categories.index(category)\n",
        "    tensor = torch.zeros(1, n_categories)\n",
        "    tensor[0][li] = 1\n",
        "    return tensor\n",
        "\n",
        "# input의 첫번째부터 마지막 글자(EOS 제외)의 one-hot matrix\n",
        "def input_tensor(line):\n",
        "    '''\n",
        "    # 원본은 다음과 같이 되어 있으나, dimension을 편리하게 표현해보겠습니다.\n",
        "    tensor = torch.zeros(len(line), 1, n_letters)\n",
        "    '''\n",
        "    # <line_length x batch_size x n_letters>\n",
        "    line_length = len(line)\n",
        "    batch_size = 1\n",
        "    tensor = torch.zeros(line_length, batch_size, n_letters)\n",
        "    for li in range(line_length):\n",
        "        letter = line[li]\n",
        "        # 마지막 차원(n_letters)의 index만 1로 바꾸어주면 one-hot으로 표현 가능합니다.\n",
        "        tensor[li][0][all_letters.find(letter)] = 1\n",
        "    return tensor\n",
        "\n",
        "# Target의 두번째 글자부터 마지막(EOS)까지를 LongTensor로 표현합니다.\n",
        "def target_tensor(line):\n",
        "    # 첫번째 글자는 t=1일 때 input으로 주기 때문에 제외합니다.\n",
        "    letter_indexes = [all_letters.find(line[li]) for li in range(1, len(line))] # list comprehension\n",
        "    letter_indexes.append(n_letters - 1) # EOS\n",
        "    return torch.LongTensor(letter_indexes)"
      ],
      "execution_count": 0,
      "outputs": []
    },
    {
      "cell_type": "markdown",
      "metadata": {
        "id": "MEkmRmkeYioe",
        "colab_type": "text"
      },
      "source": [
        "Training 과정에서 편의를 위해, 랜덤으로 (category, line) 쌍을 가져오는 `random_training_example` 함수를 만들고, 이를 필요한 (category, input, target) 텐서로 변환합니다."
      ]
    },
    {
      "cell_type": "code",
      "metadata": {
        "id": "4wEwxbmkXbVE",
        "colab_type": "code",
        "colab": {}
      },
      "source": [
        "# (random_category, line) 쌍으로부터 category, input, target tensor를 만듭니다.\n",
        "def random_training_example():\n",
        "    # random하게 category와 line을 가져옵니다.\n",
        "    category, line = random_training_pair()\n",
        "    # category를 <1 x n_categories> tensor로 변환합니다.\n",
        "    category = category_tensor(category)\n",
        "    # 이름(line)을 <line_length  x batch_size x n_letters> tensor로 변환(EOS 제외)\n",
        "    input_line_tensor = input_tensor(line)\n",
        "    # 이름(line)을 <line_length  x batch_size x n_letters> tensor로 변환(EOS 포함, 첫 글자 제거)\n",
        "    target_line_tensor = target_tensor(line)\n",
        "    return category, input_line_tensor, target_line_tensor"
      ],
      "execution_count": 0,
      "outputs": []
    },
    {
      "cell_type": "markdown",
      "metadata": {
        "id": "6tUqA-hZavwW",
        "colab_type": "text"
      },
      "source": [
        "## Traning the Network\n",
        "오직 마지막 output만이 사용되는 classification 문제와는 반대로, 모든 스텝에서 예측하여 모든 스텝에서의 loss를 계산합니다.\n",
        "\n",
        "Autograd의 마술덕분에 우리는 매 순간에서의 losses를 단순히 더하고 마지막에 backward함수만 더하면 됩니다."
      ]
    },
    {
      "cell_type": "code",
      "metadata": {
        "id": "rcjHuqUTaumZ",
        "colab_type": "code",
        "colab": {}
      },
      "source": [
        "criterion = nn.NLLLoss()\n",
        "\n",
        "learning_rate = 0.0005\n",
        "\n",
        "def train(category_tensor, input_line_tensor, target_line_tensor):\n",
        "    target_line_tensor.unsqueeze_(-1)\n",
        "    hidden = rnn.init_hidden()\n",
        "\n",
        "    rnn.zero_grad()\n",
        "\n",
        "    loss = 0\n",
        "\n",
        "    for i in range(input_line_tensor.size(0)):\n",
        "        output, hidden = rnn(category_tensor, input_line_tensor[i], hidden)\n",
        "        l = criterion(output, target_line_tensor[i])\n",
        "        loss += l\n",
        "    \n",
        "    loss.backward()\n",
        "    '''\n",
        "    # 원본은 다음과 같이 gradient를 update합니다.\n",
        "    for p in rnn.parameters():\n",
        "        p.data.add_(-learning_rate, p.grad.data)\n",
        "    '''\n",
        "    optimizer.step()\n",
        "\n",
        "    return output, loss.item() / input_line_tensor.size(0)"
      ],
      "execution_count": 0,
      "outputs": []
    },
    {
      "cell_type": "markdown",
      "metadata": {
        "id": "MazKqknWhMDq",
        "colab_type": "text"
      },
      "source": [
        "Training 과정에서 소요되는 시간을 기록하기 위해 `time_since(timestamp)`함수를 만들겠습니다. 이 함수는 사람이 읽을 수 있는 string을 반환합니다:"
      ]
    },
    {
      "cell_type": "code",
      "metadata": {
        "id": "xSeTmBaNmJDO",
        "colab_type": "code",
        "colab": {}
      },
      "source": [
        "import time\n",
        "import math\n",
        "\n",
        "def time_since(since):\n",
        "    now = time.time()\n",
        "    s = now - since\n",
        "    m = math.floor(s / 60)\n",
        "    s -= m * 60\n",
        "    # f string을 사용하겠습니다\n",
        "    return f'{m}m {s}s'"
      ],
      "execution_count": 0,
      "outputs": []
    },
    {
      "cell_type": "markdown",
      "metadata": {
        "id": "hUdFDLZ6mT1s",
        "colab_type": "text"
      },
      "source": [
        "Training은 평상시와 같이 진행합니다 - train을 몇 번 호출하고, 몇 분 기다린 후, 매 `print_every`번째 마다 현재 시간과 loss를 출력하고, `plot_every`번째마다 평균 loss를 `all_losses`에 저장하여 추후에 plotting합니다."
      ]
    },
    {
      "cell_type": "code",
      "metadata": {
        "id": "jMxPUFpImS1y",
        "colab_type": "code",
        "outputId": "af58ea78-19f5-4007-89eb-e89bfeb151bd",
        "colab": {
          "base_uri": "https://localhost:8080/",
          "height": 364
        }
      },
      "source": [
        "rnn = RNN(n_letters, 128, n_letters)\n",
        "\n",
        "# 위에서 직접 update를 하는 것이 아닌, optimizer로 접근했기 때문에 여기서 optimizer를 만들어줍니다.\n",
        "optimizer = torch.optim.SGD(rnn.parameters(), lr=learning_rate)\n",
        "\n",
        "n_iters = 100000\n",
        "print_every = 5000\n",
        "plot_every = 500\n",
        "all_losses = []\n",
        "total_loss = 0 # Reset every plot_every iters\n",
        "\n",
        "start = time.time()\n",
        "\n",
        "for iter in range(1, n_iters + 1):\n",
        "    output, loss = train(*random_training_example())\n",
        "    total_loss += loss\n",
        "\n",
        "    if iter % print_every == 0:\n",
        "        print(f'{time_since(start)} ({iter} {iter / n_iters * 100}%) {loss:.4f}')\n",
        "\n",
        "    if iter % plot_every == 0:\n",
        "        all_losses.append(total_loss / plot_every)\n",
        "        total_loss = 0"
      ],
      "execution_count": 0,
      "outputs": [
        {
          "output_type": "stream",
          "text": [
            "0m 13.217996597290039s (5000 5.0%) 2.4005\n",
            "0m 26.537834644317627s (10000 10.0%) 3.1587\n",
            "0m 39.96205163002014s (15000 15.0%) 2.7366\n",
            "0m 53.25227069854736s (20000 20.0%) 2.1939\n",
            "1m 6.545685768127441s (25000 25.0%) 2.4484\n",
            "1m 19.706288814544678s (30000 30.0%) 2.9784\n",
            "1m 33.117918491363525s (35000 35.0%) 2.9835\n",
            "1m 46.60876774787903s (40000 40.0%) 3.1673\n",
            "1m 59.79396867752075s (45000 45.0%) 2.0760\n",
            "2m 13.181854248046875s (50000 50.0%) 2.9127\n",
            "2m 26.867607831954956s (55000 55.00000000000001%) 1.1377\n",
            "2m 40.70514440536499s (60000 60.0%) 3.0959\n",
            "2m 54.16928696632385s (65000 65.0%) 2.0902\n",
            "3m 7.504065275192261s (70000 70.0%) 1.8151\n",
            "3m 20.8232159614563s (75000 75.0%) 2.5841\n",
            "3m 34.19641709327698s (80000 80.0%) 2.0511\n",
            "3m 47.752302169799805s (85000 85.0%) 1.6212\n",
            "4m 1.099242925643921s (90000 90.0%) 1.8623\n",
            "4m 14.33629035949707s (95000 95.0%) 2.2072\n",
            "4m 27.73836398124695s (100000 100.0%) 1.7043\n"
          ],
          "name": "stdout"
        }
      ]
    },
    {
      "cell_type": "markdown",
      "metadata": {
        "id": "zTJZRKmsogkI",
        "colab_type": "text"
      },
      "source": [
        "# Plotting the Losses"
      ]
    },
    {
      "cell_type": "code",
      "metadata": {
        "id": "cxoLk4jMhK5K",
        "colab_type": "code",
        "outputId": "74ceb8d2-7ad5-41e9-b3ba-ce48276dbf75",
        "colab": {
          "base_uri": "https://localhost:8080/",
          "height": 283
        }
      },
      "source": [
        "import matplotlib.pyplot as plt\n",
        "import matplotlib.ticker as ticker\n",
        "\n",
        "plt.figure()\n",
        "plt.plot(all_losses)"
      ],
      "execution_count": 0,
      "outputs": [
        {
          "output_type": "execute_result",
          "data": {
            "text/plain": [
              "[<matplotlib.lines.Line2D at 0x7f1f28909eb8>]"
            ]
          },
          "metadata": {
            "tags": []
          },
          "execution_count": 13
        },
        {
          "output_type": "display_data",
          "data": {
            "image/png": "[encoded data removed]",
            "text/plain": [
              "<Figure size 432x288 with 1 Axes>"
            ]
          },
          "metadata": {
            "tags": []
          }
        }
      ]
    },
    {
      "cell_type": "markdown",
      "metadata": {
        "id": "2XhYSZR7on7O",
        "colab_type": "text"
      },
      "source": [
        "# Sampling the Network\n",
        "샘플링하기 위해서는 네트워크에 글자를 주고 다음 글자가 뭔지 예측하고, 이를 다시 넣어 그 다음 글자를 예측하고, 이를 EOS 토큰을 얻을 때까지 반복한다.\n",
        "- input category, 이름의 첫 글자, 비어있는 hidden state의 tensor를 생성한다\n",
        "- starting letter를 통해 `output_name`이라는 string을 생성한다\n",
        "- 최고 output 길이에 도달할 때까지\n",
        " - 현재 글자를 network에 입력한다\n",
        " - 최고 확률을 갖는 다음 글자, output과 hidden state를 얻는다\n",
        " - 글자가 EOS라면 종료한다\n",
        " - 일반적인 글자라면, `output_name`에 글자를 추가하고 계속한다\n",
        "- 최종 이름을 반환한다\n",
        "\n",
        "**Note**  \n",
        "시작 글자를 주는 대신, 훈련과정에서 \"Start of String\" 토큰을 주어 네트워크가 맨 처음 글자를 고르는 방법도 있습니다.\n",
        "\n",
        "> 일반적으로는 <BOS> 토큰이라고 부릅니다."
      ]
    },
    {
      "cell_type": "code",
      "metadata": {
        "id": "vVZr7Z0xomtv",
        "colab_type": "code",
        "outputId": "688739af-b1cd-48fc-e5dc-00c1d5175faf",
        "colab": {
          "base_uri": "https://localhost:8080/",
          "height": 277
        }
      },
      "source": [
        "max_length = 20\n",
        "\n",
        "# Sample from a category and starting letter\n",
        "def sample(category, start_letter='A'):\n",
        "    with torch.no_grad():\n",
        "        # input category, 이름의 첫 글자, 비어있는 hidden state의 tensor를 생성합니다.\n",
        "\n",
        "        # CamelCase를 Pythonic하게 바꾸는 과정에서 variable과 function 이름이 중복되었습니다.\n",
        "        # 따라서 category_tensor를 category라는 이름으로 저장하겠습니다.\n",
        "        # 원래라면 parameter와 동명의 이름을 갖기 때문에 좋은 코딩방법은 아닙니다.\n",
        "        category = category_tensor(category)\n",
        "        input = input_tensor(start_letter)\n",
        "        hidden = rnn.init_hidden()\n",
        "\n",
        "        # starting letter를 통해 output_name이라는 string을 생성한다\n",
        "        output_name = start_letter  # Immutable\n",
        "\n",
        "        for i in range(max_length):\n",
        "            # 현재 글자를 network에 입력한다\n",
        "            output, hidden = rnn(category, input[0], hidden)\n",
        "            topv, topi = output.topk(1)\n",
        "            topi = topi[0][0]\n",
        "\n",
        "            # 최고 output 길이에 도달할 때까지\n",
        "            if topi == n_letters - 1:\n",
        "                break\n",
        "            else:\n",
        "                # 일반적인 글자라면, output_name에 글자를 추가하고 계속한다\n",
        "                letter = all_letters[topi]\n",
        "                output_name += letter\n",
        "            input = input_tensor(letter)\n",
        "        \n",
        "        return output_name\n",
        "\n",
        "# Get multiple samples from one category and multiple starting letters\n",
        "def samples(category, start_letters=\"ABC\"):\n",
        "    for start_letter in start_letters:\n",
        "        print(sample(category, start_letter))\n",
        "\n",
        "samples('Russian', 'RUS')\n",
        "\n",
        "samples('German', 'GER')\n",
        "\n",
        "samples('Spanish', 'SPA')\n",
        "\n",
        "samples('Chinese', 'CHI')\n",
        "\n",
        "samples(\"Korean\", \"KOR\")"
      ],
      "execution_count": 0,
      "outputs": [
        {
          "output_type": "stream",
          "text": [
            "Rovaki\n",
            "Uanishin\n",
            "Sharivavivin\n",
            "Gerre\n",
            "Ererer\n",
            "Ronger\n",
            "Salla\n",
            "Perra\n",
            "Allara\n",
            "Can\n",
            "Han\n",
            "Iun\n",
            "Kon\n",
            "Oon\n",
            "Ron\n"
          ],
          "name": "stdout"
        }
      ]
    },
    {
      "cell_type": "markdown",
      "metadata": {
        "id": "oJyIiKZGyJ-3",
        "colab_type": "text"
      },
      "source": [
        "# Exercise\n",
        "- 다른 데이터 셋을 통해 category -> line을 예측해보십시오\n",
        " - 픽션 -> 캐릭터 이름\n",
        " - 품사 -> 단어\n",
        " - 나라 -> 도시  \n",
        "- \"Start of Sentence\" 토큰을 사용하여 시작 글자를 선택하지 않고 시도해봅니다 - 더 크거나 더 나은 네트워크를 이용해봅시다\n",
        " - nn.LSTM, nn.GRU 네트워크\n",
        " - 이러한 RNN 여러개를 묶어 높은 단계의 네트워크로 사용하기"
      ]
    }
  ]
}