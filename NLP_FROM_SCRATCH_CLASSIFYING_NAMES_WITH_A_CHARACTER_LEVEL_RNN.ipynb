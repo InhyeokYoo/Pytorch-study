{
  "nbformat": 4,
  "nbformat_minor": 0,
  "metadata": {
    "colab": {
      "name": "NLP FROM SCRATCH: CLASSIFYING NAMES WITH A CHARACTER-LEVEL RNN.ipynb",
      "provenance": [],
      "authorship_tag": "ABX9TyO5Uj/SHNwLjPOTMY0z2R3c",
      "include_colab_link": true
    },
    "kernelspec": {
      "name": "python3",
      "display_name": "Python 3"
    },
    "accelerator": "GPU"
  },
  "cells": [
    {
      "cell_type": "markdown",
      "metadata": {
        "id": "view-in-github",
        "colab_type": "text"
      },
      "source": [
        "<a href=\"https://colab.research.google.com/github/InhyeokYoo/Pytorch-study/blob/master/NLP_FROM_SCRATCH_CLASSIFYING_NAMES_WITH_A_CHARACTER_LEVEL_RNN.ipynb\" target=\"_parent\"><img src=\"https://colab.research.google.com/assets/colab-badge.svg\" alt=\"Open In Colab\"/></a>"
      ]
    },
    {
      "cell_type": "markdown",
      "metadata": {
        "id": "yFzPJY4ZPtgX",
        "colab_type": "text"
      },
      "source": [
        "# Introduction\n",
        "https://pytorch.org/tutorials/intermediate/char_rnn_classification_tutorial.html 를 참고하여 작성한 자료입니다.\n",
        "\n",
        "이번 노트북에서는 character-level RNN을 만들고 학습시켜 단어를 분류해보겠습니다. 이 튜토리얼에서는 NLP 모델링을 위해 데이터 전처리를 어떻게 하는지, 특히 *torchtest*의 편리한 기능을 사용하지 않고 처음부터(from scratch)시작해보겠습니다. 이를 통해 NLP 모델링을 위한 전처리를 low-level부터 배워볼 것입니다.\n",
        "\n",
        "Character-level RNN은 단어를 읽어들일 때 이를 characters의 연속으로 받아들입니다. 마지막 예측단계에서는 단어가 어느 클래스에 속하는지 예측할 것 입니다.\n",
        "\n",
        "구체적으로 18개의 언어로부터 추출한 몇 천개의 성(surname)을 학습시키고, 어떤 언어에 속하는지를 예측합니다:\n",
        "\n",
        "```\n",
        "$ python predict.py Hinton\n",
        "(-0.47) Scottish\n",
        "(-1.52) English\n",
        "(-3.57) Irish\n",
        "\n",
        "$ python predict.py Schmidhuber\n",
        "(-0.19) German\n",
        "(-2.48) Czech\n",
        "(-2.68) Dutch\n",
        "\n",
        "```"
      ]
    },
    {
      "cell_type": "markdown",
      "metadata": {
        "id": "QyFNYqwuRu95",
        "colab_type": "text"
      },
      "source": [
        "## 하기전에 보면 좋을 것들\n",
        "이 튜토리얼을 보고 따라하는 사람은 최소한 PyTorch가 설치되어있고 Python을 다룰줄 알며, Tensors에 대해 이해할 것이라 가정합니다.\n",
        "- https://pytorch.org/ For installation instructions\n",
        "- Deep Learning with PyTorch: A 60 Minute Blitz to get started with PyTorch in general\n",
        "- Learning PyTorch with Examples for a wide and deep overview\n",
        "- PyTorch for Former Torch Users if you are former Lua Torch user\n",
        "\n",
        "RNN에 대해 알고 어떻게 작동하는지 알면 더 좋을 것입니다:\n",
        "\n",
        "- The Unreasonable Effectiveness of Recurrent Neural Networks shows a bunch of real life examples\n",
        "- Understanding LSTM Networks is about LSTMs specifically but also informative about RNNs in general"
      ]
    },
    {
      "cell_type": "markdown",
      "metadata": {
        "id": "ph3pGXXXSVtI",
        "colab_type": "text"
      },
      "source": [
        "# Preparing Data\n",
        "데이터는 [다음 링크](https://download.pytorch.org/tutorial/data.zip)에서 받을 수 있습니다.\n",
        "\n",
        "> 다운받지 않아도 동작할 수 있게끔 처리해놨습니다. 특히 코랩에서 유용할 것입니다.\n",
        "\n",
        "`data.names`디렉토리에 포함된 파일은 18개의 텍스트 파일로, **[Language].txt**로 저장되어있습니다. 각 파일에는 이름이 저장되어 있고, 이는 한 줄에 한 이름씩, 대부분 로마글자로 쓰여져있습니다 (그러나 여전히 Unicode에서 ASCII로 변환할 필요가 있습니다).\n",
        "\n",
        "이 튜토리얼에서는 언어 당 이름의 리스트로 이루어진 딕셔너리 `{language: [names ...]}`로 변환하여 사용하겠습니다. 나중에 확장하기 용이하도록 language와 name을 일반적인 변수명인 'category'와 'line'으로 표기하겠습니다.\n",
        "\n"
      ]
    },
    {
      "cell_type": "code",
      "metadata": {
        "id": "5gjl9W33Oe4H",
        "colab_type": "code",
        "outputId": "28f170d8-544a-4872-8b4e-194c75365974",
        "colab": {
          "base_uri": "https://localhost:8080/",
          "height": 589
        }
      },
      "source": [
        "!wget https://download.pytorch.org/tutorial/data.zip\n",
        "!unzip data.zip"
      ],
      "execution_count": 0,
      "outputs": [
        {
          "output_type": "stream",
          "text": [
            "--2020-01-21 09:43:33--  https://download.pytorch.org/tutorial/data.zip\n",
            "Resolving download.pytorch.org (download.pytorch.org)... 99.84.251.35, 99.84.251.22, 99.84.251.61, ...\n",
            "Connecting to download.pytorch.org (download.pytorch.org)|99.84.251.35|:443... connected.\n",
            "HTTP request sent, awaiting response... 200 OK\n",
            "Length: 2882130 (2.7M) [application/zip]\n",
            "Saving to: ‘data.zip’\n",
            "\n",
            "\rdata.zip              0%[                    ]       0  --.-KB/s               \rdata.zip            100%[===================>]   2.75M  17.1MB/s    in 0.2s    \n",
            "\n",
            "2020-01-21 09:43:33 (17.1 MB/s) - ‘data.zip’ saved [2882130/2882130]\n",
            "\n",
            "Archive:  data.zip\n",
            "   creating: data/\n",
            "  inflating: data/eng-fra.txt        \n",
            "   creating: data/names/\n",
            "  inflating: data/names/Arabic.txt   \n",
            "  inflating: data/names/Chinese.txt  \n",
            "  inflating: data/names/Czech.txt    \n",
            "  inflating: data/names/Dutch.txt    \n",
            "  inflating: data/names/English.txt  \n",
            "  inflating: data/names/French.txt   \n",
            "  inflating: data/names/German.txt   \n",
            "  inflating: data/names/Greek.txt    \n",
            "  inflating: data/names/Irish.txt    \n",
            "  inflating: data/names/Italian.txt  \n",
            "  inflating: data/names/Japanese.txt  \n",
            "  inflating: data/names/Korean.txt   \n",
            "  inflating: data/names/Polish.txt   \n",
            "  inflating: data/names/Portuguese.txt  \n",
            "  inflating: data/names/Russian.txt  \n",
            "  inflating: data/names/Scottish.txt  \n",
            "  inflating: data/names/Spanish.txt  \n",
            "  inflating: data/names/Vietnamese.txt  \n"
          ],
          "name": "stdout"
        }
      ]
    },
    {
      "cell_type": "code",
      "metadata": {
        "id": "ZdfmLvV7TSRZ",
        "colab_type": "code",
        "colab": {}
      },
      "source": [
        "### Import Libraries\n",
        "# -*- coding: utf-8 -*-\n",
        "from __future__ import unicode_literals, print_function, division\n",
        "from io import open\n",
        "import glob\n",
        "import os\n",
        "\n",
        "import unicodedata\n",
        "import string"
      ],
      "execution_count": 0,
      "outputs": []
    },
    {
      "cell_type": "markdown",
      "metadata": {
        "id": "JGkCc9F6VWMq",
        "colab_type": "text"
      },
      "source": [
        "glob 라이브러리는 윈도우의 dir 명령어나 리눅스의 ls 명령어와 유사한 기능을 제공합니다. 이를 통해 파일의 목록을 뽑아보도록 하겠습니다."
      ]
    },
    {
      "cell_type": "code",
      "metadata": {
        "id": "k-3xszbwU7PO",
        "colab_type": "code",
        "outputId": "ded452e6-d01e-400c-c572-e9b153f6aace",
        "colab": {
          "base_uri": "https://localhost:8080/",
          "height": 55
        }
      },
      "source": [
        "# path 내에 있는 모든 파일의 목록을 뽑음.\n",
        "def find_files(path): return glob.glob(path)\n",
        "\n",
        "# *은 어떠한 파일명이든 상관없이 뽑음. 즉, 모든 txt파일을 추출함\n",
        "print(find_files('data/names/*.txt'))"
      ],
      "execution_count": 0,
      "outputs": [
        {
          "output_type": "stream",
          "text": [
            "['data/names/Irish.txt', 'data/names/Dutch.txt', 'data/names/Japanese.txt', 'data/names/Greek.txt', 'data/names/Korean.txt', 'data/names/Polish.txt', 'data/names/Vietnamese.txt', 'data/names/Arabic.txt', 'data/names/Scottish.txt', 'data/names/Portuguese.txt', 'data/names/Russian.txt', 'data/names/German.txt', 'data/names/Chinese.txt', 'data/names/Spanish.txt', 'data/names/French.txt', 'data/names/Italian.txt', 'data/names/Czech.txt', 'data/names/English.txt']\n"
          ],
          "name": "stdout"
        }
      ]
    },
    {
      "cell_type": "code",
      "metadata": {
        "id": "gUFSenBAVU0X",
        "colab_type": "code",
        "outputId": "69e4a499-0b7c-497d-8a4d-1c1ab0965605",
        "colab": {
          "base_uri": "https://localhost:8080/",
          "height": 35
        }
      },
      "source": [
        "all_letters = string.ascii_letters + \" .,;'\"    # \"abcdefghijklmnopqrstuvwxyzABCDEFGHIJKLMNOPQRSTUVWXYZ .,;'\"\n",
        "n_letters = len(all_letters)\n",
        "\n",
        "# Turn a Unicode string to plain ASCII, thanks to https://stackoverflow.com/a/518232/2809427\n",
        "def unicode_to_ascii(s):\n",
        "    return ''.join(\n",
        "        c for c in unicodedata.normalize('NFD', s)\n",
        "        if unicodedata.category(c) != 'Mn'\n",
        "        and c in all_letters\n",
        "    )\n",
        "\n",
        "print(unicode_to_ascii('Ślusàrski'))"
      ],
      "execution_count": 0,
      "outputs": [
        {
          "output_type": "stream",
          "text": [
            "Slusarski\n"
          ],
          "name": "stdout"
        }
      ]
    },
    {
      "cell_type": "code",
      "metadata": {
        "id": "MjURStLQY4Tj",
        "colab_type": "code",
        "outputId": "86a5899f-8837-4ca9-be80-c126052c0b9a",
        "colab": {
          "base_uri": "https://localhost:8080/",
          "height": 225
        }
      },
      "source": [
        "### 실제 어떻게 동작하는지에 대한 예시\n",
        "\n",
        "s = 'Ślusàrski'\n",
        "c = unicodedata.normalize('NFD', s)\n",
        "print(c)\n",
        "for i in c:\n",
        "    # 위첨자는 빠지는 모습을 볼 수 있음.\n",
        "    print(f\"{i}:{unicodedata.category(i)}\")   "
      ],
      "execution_count": 0,
      "outputs": [
        {
          "output_type": "stream",
          "text": [
            "Ślusàrski\n",
            "S:Lu\n",
            "́:Mn\n",
            "l:Ll\n",
            "u:Ll\n",
            "s:Ll\n",
            "a:Ll\n",
            "̀:Mn\n",
            "r:Ll\n",
            "s:Ll\n",
            "k:Ll\n",
            "i:Ll\n"
          ],
          "name": "stdout"
        }
      ]
    },
    {
      "cell_type": "code",
      "metadata": {
        "id": "zITk682fWHNn",
        "colab_type": "code",
        "colab": {}
      },
      "source": [
        "category_lines = {} # 언어:이름 쌍을 넣을 딕셔너리\n",
        "all_categories = [] # 모든 언어를 넣을 리스트\n",
        "\n",
        "# 파일을 읽고 라인별로 split함.\n",
        "def read_lines(filename):\n",
        "    lines = open(filename, encoding='utf-8').read().strip().split('\\n')\n",
        "    return [unicode_to_ascii(line) for line in lines]\n",
        "\n",
        "# 파일명으로 부터 언어명을 추출하고, 위에서 만들었던 리스트/딕셔너리에 이를 집어넣음.\n",
        "for filename in find_files('data/names/*.txt'):\n",
        "    # splittext: 파일명과 확장자를 나누어 반환\n",
        "    # basename: 디렉토리를 제외한 파일명을 반환한다.\n",
        "    category = os.path.splitext(os.path.basename(filename))[0]\n",
        "    all_categories.append(category)\n",
        "    lines = read_lines(filename)\n",
        "    category_lines[category] = lines\n",
        "\n",
        "n_categories = len(all_categories)"
      ],
      "execution_count": 0,
      "outputs": []
    },
    {
      "cell_type": "markdown",
      "metadata": {
        "id": "7XEkSkm7WK9W",
        "colab_type": "text"
      },
      "source": [
        "이제 `category_lines`에는 각 category(language)와 lines(names)의 리스트로 이루어진 딕셔너리 맵핑이 있을 것입니다. 또한, 추후에 참고하기 위해 `all_categories`(a list of languages)와 `n_categories`를 기록해놓겠습니다."
      ]
    },
    {
      "cell_type": "code",
      "metadata": {
        "id": "pIUkev56dpNF",
        "colab_type": "code",
        "outputId": "bea651c3-ddc8-49d7-b767-56a43f19286b",
        "colab": {
          "base_uri": "https://localhost:8080/",
          "height": 35
        }
      },
      "source": [
        "print(category_lines['Italian'][:5])"
      ],
      "execution_count": 0,
      "outputs": [
        {
          "output_type": "stream",
          "text": [
            "['Abandonato', 'Abatangelo', 'Abatantuono', 'Abate', 'Abategiovanni']\n"
          ],
          "name": "stdout"
        }
      ]
    },
    {
      "cell_type": "markdown",
      "metadata": {
        "id": "_kM7AXkbXDK0",
        "colab_type": "text"
      },
      "source": [
        "# 이름을 Tensor로 바꾸기\n",
        "이제 모든 이름을 정렬했으니, 이를 Tensor로 바꿔주도록 하겠습니다.\n",
        "\n",
        "한 글자(a single letter)를 표현하기 위해, 사이즈가 `<1 x n_letters>`인 *one-hot vector*를 이용하겠습니다.\n",
        "\n",
        "단어를 만들기 위해서 이러한 one-hot vector 여러개를 모아 2D matrix `<line_length x 1 x n_letters>`로 만들도록 하겠습니다.\n",
        "\n",
        "위에서 여분의 1 dimension이 있는 것은 PyTorch는 모든 것을 batch로 받기 때문입니다. 여기서는 batch size를 1로 하겠습니다."
      ]
    },
    {
      "cell_type": "code",
      "metadata": {
        "id": "MVt_1z4XW8PP",
        "colab_type": "code",
        "outputId": "b9f97df0-b37c-4218-ba1b-601e78413d42",
        "colab": {
          "base_uri": "https://localhost:8080/",
          "height": 104
        }
      },
      "source": [
        "import torch\n",
        "\n",
        "# all_letters로부터 글자의 index를 찾습니다. e.g. 'a' = 0\n",
        "def letter_to_index(letter):\n",
        "    return all_letters.find(letter)\n",
        "\n",
        "# 글자를 one-hot vector로 바꿈\n",
        "def letter_to_tensor(letter):\n",
        "    # vector가 아닌 1 x n의 matrix임에 유의\n",
        "    tensor = torch.zeros(1, n_letters)\n",
        "    tensor[0][letter_to_index(letter)] = 1\n",
        "    return tensor\n",
        "\n",
        "# line을 <n_length x 1 x n_letters>로 변환하거나,\n",
        "# one-hot vector의 array로 변환함.\n",
        "def line_to_tensor(line):\n",
        "    # <line_length x 1 x n_letters> 차원의 tensor를 미리 만듬\n",
        "    tensor = torch.zeros(len(line), 1, n_letters)\n",
        "    # tensor에 이름(line)의 각 글자의 index를 1로 만듬.\n",
        "    for li, letter in enumerate(line):\n",
        "        tensor[li][0][letter_to_index(letter)] = 1\n",
        "    return tensor\n",
        "\n",
        "print(letter_to_tensor('J'))\n",
        "\n",
        "print(line_to_tensor(\"Jones\").size())"
      ],
      "execution_count": 0,
      "outputs": [
        {
          "output_type": "stream",
          "text": [
            "tensor([[0., 0., 0., 0., 0., 0., 0., 0., 0., 0., 0., 0., 0., 0., 0., 0., 0., 0.,\n",
            "         0., 0., 0., 0., 0., 0., 0., 0., 0., 0., 0., 0., 0., 0., 0., 0., 0., 1.,\n",
            "         0., 0., 0., 0., 0., 0., 0., 0., 0., 0., 0., 0., 0., 0., 0., 0., 0., 0.,\n",
            "         0., 0., 0.]])\n",
            "torch.Size([5, 1, 57])\n"
          ],
          "name": "stdout"
        }
      ]
    },
    {
      "cell_type": "markdown",
      "metadata": {
        "id": "MDCLGJOgjIYW",
        "colab_type": "text"
      },
      "source": [
        "# 네트워크 만들기 (Creating the Network)\n",
        "\n",
        "Autograd 전에, RNN을 만드는 것은 여러 timesteps을 거쳐 레이어의 파라미터를 복사하는 과정을 포함합니다. 레이어에는 hidden state와 gradient가 들어 있고, hidden state와 gradient는 graph를 통해 처리할 수 있습니다. 이는 우리가 RNN을 일반적인 feed forward network와 같은 매우 **순수한** 방법으로 구현할 수 있다는 뜻입니다.\n",
        "\n",
        "이 RNN 모듈은 (대부분 [the PyTorch for Torch users tutorial](https://pytorch.org/tutorials/beginner/former_torchies/nn_tutorial.html#example-2-recurrent-net)에서 가져왔음) input/hidden state에서 동작하는 두 개의 linear layers와 LogSoftmax 레이어로 이루어져있습니다.\n",
        "\n",
        "> 원본은 nn.RNN대신 직접 만들어 사용합니다.\n",
        "\n",
        "![](https://i.imgur.com/Z2xbySO.png)"
      ]
    },
    {
      "cell_type": "code",
      "metadata": {
        "id": "LEXUkJIBhNjC",
        "colab_type": "code",
        "colab": {}
      },
      "source": [
        "import torch.nn as nn\n",
        "\n",
        "class RNN(nn.Module):\n",
        "    def __init__(self, input_size, hidden_size, output_size):\n",
        "        super(RNN, self).__init__()\n",
        "\n",
        "        self.hidden_size = hidden_size\n",
        "\n",
        "        # 위 그림 참고\n",
        "        self.i2h = nn.Linear(input_size + hidden_size, hidden_size)\n",
        "        self.i2o = nn.Linear(input_size + hidden_size, output_size)\n",
        "        self.softmax = nn.LogSoftmax(dim=1)\n",
        "\n",
        "    def forward(self, input, hidden):\n",
        "        # torch.cat: 합칠 텐서를 python sequence로 받음.\n",
        "        combined = torch.cat(tensors=(input, hidden), dim=1)\n",
        "        hidden = self.i2h(combined)\n",
        "        output = self.i2o(combined)\n",
        "        output = self.softmax(output)\n",
        "\n",
        "        return output, hidden\n",
        "    \n",
        "    def init_hidden(self):\n",
        "        return torch.zeros(1, self.hidden_size)\n",
        "\n",
        "n_hidden = 128\n",
        "# t시점의 input은 글자의 index이므로 n_letters만큼의 차원을 갖음.\n",
        "rnn = RNN(n_letters, n_hidden, n_categories)"
      ],
      "execution_count": 0,
      "outputs": []
    },
    {
      "cell_type": "markdown",
      "metadata": {
        "id": "H354Vcl3EaN7",
        "colab_type": "text"
      },
      "source": [
        "> nn.RNN을 사용할 경우, output의 dimension이 `<seq_len, batch, num_directions * hidden_size>`이므로, FC layer를 통해 `n_categories` 만큼의 차원을 갖도록 바꿔주어야 합니다."
      ]
    },
    {
      "cell_type": "markdown",
      "metadata": {
        "id": "J7_DVWE3sDA2",
        "colab_type": "text"
      },
      "source": [
        "이 네트워크를 실행하기 위해 input(현재 글자)와 이전 hidden state(맨 처음 0으로 초기화한 것)를 넘겨줄 필요가 있습니다."
      ]
    },
    {
      "cell_type": "code",
      "metadata": {
        "id": "mJpPenTNmCFi",
        "colab_type": "code",
        "colab": {}
      },
      "source": [
        "input = letter_to_tensor('A')\n",
        "hidden = torch.zeros(1, n_hidden)\n",
        "\n",
        "output, next_hidden = rnn(input, hidden)"
      ],
      "execution_count": 0,
      "outputs": []
    },
    {
      "cell_type": "markdown",
      "metadata": {
        "id": "_XvekyqOtYCZ",
        "colab_type": "text"
      },
      "source": [
        "효율성을 생각한다면 모든 step에서 새로운 Tensor를 만들 필요가 없습니다. 따라서 `letters_to_tensor`대신 `line_to_tensor`를 사용하고 slice를 사용하겠습니다. 이는 Tensor의 batch를 pre-computing하여 더 최적화 할 수 있습니다."
      ]
    },
    {
      "cell_type": "code",
      "metadata": {
        "id": "LUVY0UM7ybu_",
        "colab_type": "code",
        "outputId": "bf57d12f-3551-4954-8f89-093bba44b0c3",
        "colab": {
          "base_uri": "https://localhost:8080/",
          "height": 69
        }
      },
      "source": [
        "input = line_to_tensor('Albert')\n",
        "hidden = torch.zeros(1, n_hidden)\n",
        "\n",
        "# 'Albert'의 'A'(t=1)만 전달.\n",
        "output, next_hidden = rnn(input[0], hidden)\n",
        "print(output)   # <1 x n_categories>"
      ],
      "execution_count": 0,
      "outputs": [
        {
          "output_type": "stream",
          "text": [
            "tensor([[-2.8203, -2.9312, -2.9243, -2.9394, -2.7699, -2.9901, -2.8974, -2.8139,\n",
            "         -2.8378, -2.9212, -2.9586, -2.8785, -2.8003, -2.8743, -2.8249, -2.9790,\n",
            "         -2.9449, -2.9594]], grad_fn=<LogSoftmaxBackward>)\n"
          ],
          "name": "stdout"
        }
      ]
    },
    {
      "cell_type": "markdown",
      "metadata": {
        "id": "zliGXQXaykbz",
        "colab_type": "text"
      },
      "source": [
        "결과에서 볼 수 있듯, output은 `<1 x n_categories>` Tensor로, 모든 item은  category의 likelihood가 됩니다 (높을수록 확률이 높습니다)"
      ]
    },
    {
      "cell_type": "markdown",
      "metadata": {
        "id": "dYjeX0zezIBb",
        "colab_type": "text"
      },
      "source": [
        "# Training\n",
        "## 학습을 위한 준비과정\n",
        "학습을 시작하기 전에 도움이 될만한 함수를 만들겠습니다. 첫번째 함수는 네트워크의 output을 해석하는 함수로, 각 category의 likelihood입니다. `Tensor.topk`를 사용하여 가장 큰 값의 index를 구할 수 있습니다:\n",
        " \n"
      ]
    },
    {
      "cell_type": "code",
      "metadata": {
        "id": "qk8gGP7_yfu6",
        "colab_type": "code",
        "outputId": "0f47ad21-08cd-43c6-9f3f-8ab3a8d2ae0e",
        "colab": {
          "base_uri": "https://localhost:8080/",
          "height": 35
        }
      },
      "source": [
        "def category_from_output(output):\n",
        "    # torch.topk: return tok K values and indices\n",
        "    top_n, top_i = output.topk(1)\n",
        "    # torch.Tensor.item(): return value of this tensor\n",
        "    category_i = top_i[0].item()\n",
        "    return all_categories[category_i], category_i\n",
        "\n",
        "print(category_from_output(output))"
      ],
      "execution_count": 0,
      "outputs": [
        {
          "output_type": "stream",
          "text": [
            "('Russian', 10)\n"
          ],
          "name": "stdout"
        }
      ]
    },
    {
      "cell_type": "markdown",
      "metadata": {
        "id": "sIl3J6Qp1X33",
        "colab_type": "text"
      },
      "source": [
        "또한 training example을 얻는 빠른 방법을 보겠습니다."
      ]
    },
    {
      "cell_type": "code",
      "metadata": {
        "id": "DAUJ_ceM0x0S",
        "colab_type": "code",
        "outputId": "074ca0c3-adf7-4d0c-fc10-74670710160c",
        "colab": {
          "base_uri": "https://localhost:8080/",
          "height": 208
        }
      },
      "source": [
        "import random\n",
        "\n",
        "def random_choice(l):\n",
        "    return l[random.randint(0, len(l) - 1)]\n",
        "\n",
        "def random_training_example():\n",
        "    # 랜덤하게 학습예제를 얻는 함수\n",
        "\n",
        "    # all_categories로부터 랜덤한 학습예제를 샘플링.\n",
        "    category = random_choice(all_categories)\n",
        "    # 위에서 선택한 category(i.e. language)로부터 학습할 이름을 샘플링.\n",
        "    line = random_choice(category_lines[category])\n",
        "    # category index를 tensor 형태로 변환함.\n",
        "    category_tensor = torch.tensor([all_categories.index(category)], dtype=torch.long)\n",
        "    line_tensor = line_to_tensor(line)  # <line_length x 1 x n_letters> == <5 x 1 x 57>\n",
        "    return category, line, category_tensor, line_tensor\n",
        "\n",
        "for i in range(10):\n",
        "    category, line, category_tensor, line_tensor = random_training_example()\n",
        "    print(f\"category = {category},/ line = {line}\")"
      ],
      "execution_count": 0,
      "outputs": [
        {
          "output_type": "stream",
          "text": [
            "category = Portuguese,/ line = Alves\n",
            "category = English,/ line = Little\n",
            "category = Chinese,/ line = Fan\n",
            "category = Arabic,/ line = Hajjar\n",
            "category = Irish,/ line = Macdermott\n",
            "category = Chinese,/ line = Geng\n",
            "category = French,/ line = Romilly\n",
            "category = Arabic,/ line = Bitar\n",
            "category = Portuguese,/ line = D'cruze\n",
            "category = Portuguese,/ line = Ferro\n",
            "torch.Size([5, 1, 57])\n"
          ],
          "name": "stdout"
        }
      ]
    },
    {
      "cell_type": "markdown",
      "metadata": {
        "id": "H38IUgx-21ga",
        "colab_type": "text"
      },
      "source": [
        "## Network 학습\n",
        "\n",
        "loss function의 경우 마지막 레이어에서 `nn.LogSoftmax`를 사용했기 때문에 `nn.NLLLoss`가 적절합니다.\n",
        "\n",
        ">  Obtaining log-probabilities in a neural network is easily achieved by adding a LogSoftmax layer in the last layer of your network. You may use CrossEntropyLoss instead, if you prefer not to add an extra layer.  \n",
        "- Input: (N, C)  \n",
        "- Target: (N)"
      ]
    },
    {
      "cell_type": "code",
      "metadata": {
        "id": "NiGl9e7V2m-N",
        "colab_type": "code",
        "colab": {}
      },
      "source": [
        "criterion = nn.NLLLoss()"
      ],
      "execution_count": 0,
      "outputs": []
    },
    {
      "cell_type": "markdown",
      "metadata": {
        "id": "JfFRze2l3vZ_",
        "colab_type": "text"
      },
      "source": [
        "training 과정에서의 매 loop에서 할 일은:\n",
        "- input과 target tensors를 만든다.\n",
        "- 0으로 초기화된 initial hidden state를 만든다.\n",
        "- 각 글자를 읽어들인다.\n",
        " - 다음 글자를 위해 hidden state를 저장한다.\n",
        "- 마지막 output과 target을 비교한다.\n",
        "- Back-propagation을 수행한다.\n",
        "- Output과 loss를 반환한다."
      ]
    },
    {
      "cell_type": "code",
      "metadata": {
        "id": "SY1oJO9F4ZeJ",
        "colab_type": "code",
        "colab": {}
      },
      "source": [
        "learning_rate = 0.005   # 너무 클 경우 explode하고, 작을 경우 학습이 되지 않습니다.\n",
        "\n",
        "# 원본에선 Optimizer를 사용하는 대신 직접 gradient를 계산합니다.\n",
        "optimizer = torch.optim.SGD(rnn.parameters(), lr=learning_rate)\n",
        "\n",
        "def train(category_tensor, line_tensor):\n",
        "    # 0으로 초기화된 initial hidden state를 만든다.\n",
        "    hidden = rnn.init_hidden()\n",
        "\n",
        "    rnn.zero_grad()\n",
        "\n",
        "    # 각 글자를 읽어들인다.\n",
        "    for i in range(line_tensor.size()[0]):\n",
        "        # 다음 글자를 위해 hidden state를 저장한다.\n",
        "        output, hidden = rnn(line_tensor[i], hidden)\n",
        "    # 마지막 output과 target을 비교한다.\n",
        "    loss = criterion(output, category_tensor)\n",
        "    # Back-propagation을 수행한다.\n",
        "    # Graident가 쌓여야 하므로 RNN이 다 돌았을 때 back-prop을 해줍니다.\n",
        "    loss.backward()\n",
        "    '''\n",
        "    # 원본은 step을 사용하는 대신 아래와 같은 방법으로 시도합니다.\n",
        "\n",
        "    # Add parameters' gradients to their values, multiplied by learning rate\n",
        "    for p in rnn.parameters():\n",
        "        p.data.add_(-learning_rate, p.grad.data)\n",
        "    '''\n",
        "    optimizer.step()\n",
        "    # output과 loss를 반환한다.\n",
        "    return output, loss.item()"
      ],
      "execution_count": 0,
      "outputs": []
    },
    {
      "cell_type": "markdown",
      "metadata": {
        "id": "agw3HDlaD3CJ",
        "colab_type": "text"
      },
      "source": [
        "이제 한 뭉치의 예제 (a bunch of example)을 통해 실행시키면 됩니다. `train` 함수는 output과 loss를 반환하기 때문에, 예측값과 loss값을 plotting할 수 있습니다. "
      ]
    },
    {
      "cell_type": "code",
      "metadata": {
        "id": "cjr36n6H5r7q",
        "colab_type": "code",
        "outputId": "1be3e61d-4d06-418a-dc6a-1be1e4eae94a",
        "colab": {
          "base_uri": "https://localhost:8080/",
          "height": 364
        }
      },
      "source": [
        "import time\n",
        "import math\n",
        "\n",
        "n_iters = 100000\n",
        "# 일부분만 출력/plotting\n",
        "print_every = 5000\n",
        "plot_every = 1000\n",
        "\n",
        "# loss값을 기록하기\n",
        "current_loss = 0\n",
        "all_losses = []\n",
        "\n",
        "def time_since(since):\n",
        "    # 시작점(since)과 현재 시간의 차이를 반환하는 함수\n",
        "\n",
        "    now = time.time()\n",
        "    s = now - since\n",
        "    m = math.floor(s / 60)\n",
        "    s -= m * 60\n",
        "    return f\"{m}m {s}s\"\n",
        "\n",
        "start = time.time()\n",
        "\n",
        "for iter in range(1, n_iters + 1):\n",
        "    # input과 target tensors를 만든다.\n",
        "    category, line, category_tensor, line_tensor = random_training_example()\n",
        "    output, loss = train(category_tensor, line_tensor)\n",
        "    current_loss += loss\n",
        "\n",
        "    # print iter number, loss, name and guess\n",
        "    if iter % print_every == 0:\n",
        "        # 이전에 정의한 output interpreter를 이용하여 예측값 출력\n",
        "        guess, guess_i = category_from_output(output)\n",
        "        correct = '✓' if guess == category else f'✗ {category}'\n",
        "        # iter, 진행률, 걸린시간, loss, 이름, prediction, 정답\n",
        "        print(f\"{iter} {iter/n_iters * 100}% ({time_since(start)}) {loss} {line} {guess} {correct}\")\n",
        "\n",
        "    # 현재 avg loss list of losses에 저장함\n",
        "    if iter % plot_every == 0:\n",
        "        all_losses.append(current_loss/ plot_every)\n",
        "        current_loss = 0"
      ],
      "execution_count": 0,
      "outputs": [
        {
          "output_type": "stream",
          "text": [
            "5000 5.0% (0m 5.769678831100464s) 2.3346517086029053 Jarsky Russian ✓\n",
            "10000 10.0% (0m 11.287590980529785s) 2.492717981338501 Almeida Czech ✗ Portuguese\n",
            "15000 15.0% (0m 17.23438858985901s) 1.296158790588379 Zhui Chinese ✓\n",
            "20000 20.0% (0m 23.064869165420532s) 2.29429292678833 Holub Arabic ✗ Czech\n",
            "25000 25.0% (0m 28.62803602218628s) 0.5351735353469849 Nelli Italian ✓\n",
            "30000 30.0% (0m 35.078956842422485s) 1.328761339187622 Borovsky Russian ✗ Czech\n",
            "35000 35.0% (0m 41.236451148986816s) 1.7228971719741821 Bazzi Italian ✗ Arabic\n",
            "40000 40.0% (0m 47.063740491867065s) 1.3786357641220093 Araullo Italian ✗ Spanish\n",
            "45000 45.0% (0m 53.35244631767273s) 0.5496755838394165 Qing Chinese ✓\n",
            "50000 50.0% (0m 59.5142924785614s) 2.987123489379883 Baz Chinese ✗ Arabic\n",
            "55000 55.00000000000001% (1m 5.926255464553833s) 0.05695939436554909 Strilakos Greek ✓\n",
            "60000 60.0% (1m 11.774405241012573s) 1.0855873823165894 Maradona Spanish ✓\n",
            "65000 65.0% (1m 17.6542227268219s) 0.2468671351671219 Dinh Vietnamese ✓\n",
            "70000 70.0% (1m 23.985372304916382s) 1.5442312955856323 Antwerp English ✗ Dutch\n",
            "75000 75.0% (1m 29.47744870185852s) 0.2056233137845993 Crawford Scottish ✓\n",
            "80000 80.0% (1m 35.58166861534119s) 0.24123050272464752 Chweh Korean ✓\n",
            "85000 85.0% (1m 41.783530712127686s) 1.074991226196289 Tomasek Polish ✗ Czech\n",
            "90000 90.0% (1m 48.41811656951904s) 2.806579113006592 Nifterick Polish ✗ Dutch\n",
            "95000 95.0% (1m 54.16662859916687s) 3.8978044986724854 Mathieu Vietnamese ✗ French\n",
            "100000 100.0% (2m 0.1560354232788086s) 1.583416223526001 Polites Dutch ✗ Greek\n"
          ],
          "name": "stdout"
        }
      ]
    },
    {
      "cell_type": "markdown",
      "metadata": {
        "id": "LLHSBa4qWP40",
        "colab_type": "text"
      },
      "source": [
        "# Plotting the Result\n",
        "\n",
        "`all_losses`에 저장된 loss값들을 그려보면 network의 학습하는 과정을 볼 수 있습니다."
      ]
    },
    {
      "cell_type": "code",
      "metadata": {
        "id": "KkvYINtsQNW1",
        "colab_type": "code",
        "outputId": "e5fb2145-b8ec-40ee-d473-529386efde64",
        "colab": {
          "base_uri": "https://localhost:8080/",
          "height": 283
        }
      },
      "source": [
        "import matplotlib.pyplot as plt\n",
        "import matplotlib.ticker as ticker\n",
        "\n",
        "plt.figure()\n",
        "plt.plot(all_losses)"
      ],
      "execution_count": 0,
      "outputs": [
        {
          "output_type": "execute_result",
          "data": {
            "text/plain": [
              "[<matplotlib.lines.Line2D at 0x7fed12e21d68>]"
            ]
          },
          "metadata": {
            "tags": []
          },
          "execution_count": 32
        },
        {
          "output_type": "display_data",
          "data": {
            "image/png": "[encoded data removed]",
            "text/plain": [
              "<Figure size 432x288 with 1 Axes>"
            ]
          },
          "metadata": {
            "tags": []
          }
        }
      ]
    },
    {
      "cell_type": "markdown",
      "metadata": {
        "id": "aM3x1uIchBlk",
        "colab_type": "text"
      },
      "source": [
        "# 결과 평가하기\n",
        "다른 카테고리에서 네트워크가 얼마나 잘 작동하는지 보기 위해 confusion matrix를 만들겠습니다. Confusion matrix는 모든 정답 언어(row)와 네트워크의 예측(column)을 보여줍니다. Confusion matrix를 만들기 위해서는 sample 뭉치를 `evaluate()`를 통하여 네트워크를 실행시키면 됩니다.\n"
      ]
    },
    {
      "cell_type": "code",
      "metadata": {
        "id": "SoHY1uX8cfau",
        "colab_type": "code",
        "outputId": "367b3c71-47ee-4151-f3ef-6f354c28713e",
        "colab": {
          "base_uri": "https://localhost:8080/",
          "height": 321
        }
      },
      "source": [
        "# Confusion matrix에서 정답의 개수를 기록\n",
        "confusion = torch.zeros(n_categories, n_categories)\n",
        "n_confusion = 10000\n",
        "\n",
        "# line에 대해 output을 return함.\n",
        "def evaluate(line_tensor):\n",
        "    hidden = rnn.init_hidden()\n",
        "\n",
        "    for i in range(line_tensor.size()[0]):\n",
        "        output, hidden = rnn(line_tensor[i], hidden)\n",
        "\n",
        "    return output\n",
        "\n",
        "# 예제를 넣고 얼마나 맞는지 확인함.\n",
        "for i in range(n_confusion):\n",
        "    category, line, category_tensor, line_tensor = random_training_example()\n",
        "    output = evaluate(line_tensor)\n",
        "    guess, guess_i = category_from_output(output)\n",
        "    category_i = all_categories.index(category)\n",
        "    confusion[category_i][guess_i] += 1\n",
        "\n",
        "# row의 합으로 나누어 normalize\n",
        "for i in range(n_categories):\n",
        "    confusion[i] = confusion[i] / confusion[i].sum()\n",
        "\n",
        "# Plot 세팅\n",
        "fig = plt.figure()\n",
        "ax = fig.add_subplot(111)\n",
        "cax = ax.matshow(confusion.numpy())\n",
        "fig.colorbar(cax)\n",
        "\n",
        "# axes 세팅\n",
        "ax.set_xticklabels([''] + all_categories, rotation=90)\n",
        "ax.set_xticklabels([''] + all_categories)\n",
        "\n",
        "# Force label at every tick\n",
        "ax.xaxis.set_major_locator(ticker.MultipleLocator(1))\n",
        "ax.yaxis.set_major_locator(ticker.MultipleLocator(1))\n",
        "\n",
        "# sphinx_gallery_thumbnail_number = 2\n",
        "plt.show()"
      ],
      "execution_count": 0,
      "outputs": [
        {
          "output_type": "display_data",
          "data": {
            "image/png": "[encoded data removed]",
            "text/plain": [
              "<Figure size 432x288 with 2 Axes>"
            ]
          },
          "metadata": {
            "tags": []
          }
        }
      ]
    },
    {
      "cell_type": "markdown",
      "metadata": {
        "id": "CwU4YLzZR1Lh",
        "colab_type": "text"
      },
      "source": [
        "# 사용자 데이터로 예측하기"
      ]
    },
    {
      "cell_type": "code",
      "metadata": {
        "id": "jf949O3fR0R7",
        "colab_type": "code",
        "outputId": "8ba056d6-3567-4e62-9432-4041982cd08d",
        "colab": {
          "base_uri": "https://localhost:8080/",
          "height": 451
        }
      },
      "source": [
        "def predict(input_line, n_predictions=3):\n",
        "    print(f\"\\n> {input_line}\")\n",
        "    # prediction\n",
        "    with torch.no_grad():\n",
        "        output = evaluate(line_to_tensor(input_line))\n",
        "\n",
        "        # Top N category\n",
        "        topv, topi = output.topk(n_predictions, 1, True)\n",
        "\n",
        "        predictions = []\n",
        "\n",
        "        for i in range(n_predictions):\n",
        "            value = topv[0][i].item()\n",
        "            category_index = topi[0][i].item()\n",
        "            print(f'{value:.2f} {all_categories[category_index]}')\n",
        "            predictions.append([value, all_categories[category_index]])\n",
        "\n",
        "predict('Dovesky')\n",
        "predict('Jackson')\n",
        "predict('Satoshi')\n",
        "\n",
        "predict('Yoon')\n",
        "predict('Yoo')"
      ],
      "execution_count": 0,
      "outputs": [
        {
          "output_type": "stream",
          "text": [
            "\n",
            "> Dovesky\n",
            "-0.52 Russian\n",
            "-1.29 Czech\n",
            "-2.61 Polish\n",
            "\n",
            "> Jackson\n",
            "-0.45 Scottish\n",
            "-2.07 English\n",
            "-2.58 Polish\n",
            "\n",
            "> Satoshi\n",
            "-1.05 Arabic\n",
            "-1.51 Japanese\n",
            "-1.67 Italian\n",
            "\n",
            "> Yoon\n",
            "-0.42 Korean\n",
            "-1.30 Chinese\n",
            "-4.11 English\n",
            "\n",
            "> Yoo\n",
            "-0.28 Korean\n",
            "-1.50 Chinese\n",
            "-5.21 Vietnamese\n"
          ],
          "name": "stdout"
        }
      ]
    },
    {
      "cell_type": "code",
      "metadata": {
        "id": "jzTqOfCo3efO",
        "colab_type": "code",
        "colab": {}
      },
      "source": [
        ""
      ],
      "execution_count": 0,
      "outputs": []
    }
  ]
}